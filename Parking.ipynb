{
 "cells": [
  {
   "cell_type": "code",
   "execution_count": 1,
   "id": "63a83cf4",
   "metadata": {},
   "outputs": [
    {
     "name": "stderr",
     "output_type": "stream",
     "text": [
      "C:\\Users\\victo\\Downloads\\Python\\lib\\site-packages\\IPython\\core\\interactiveshell.py:3165: DtypeWarning: Columns (20,31,32) have mixed types.Specify dtype option on import or set low_memory=False.\n",
      "  has_raised = await self.run_ast_nodes(code_ast.body, cell_name,\n"
     ]
    },
    {
     "data": {
      "text/plain": [
       "False"
      ]
     },
     "execution_count": 1,
     "metadata": {},
     "output_type": "execute_result"
    }
   ],
   "source": [
    "import pandas #Providing necessary imports.\n",
    "import numpy\n",
    "\n",
    "df = pandas.read_csv(\"311_Service_Requests_2020.csv\") #Reading the information into a data frame.\n",
    "\n",
    "df #Inspecting the data frame.\n",
    "\n",
    "Sub_DF = df[df[\"Incident Zip\"] == 10025] #Fetching data from selected zip code.\n",
    "\n",
    "Sub_DF #Only Zip Code 10025.\n",
    "\n",
    "Illegal_Parking_10025 = Sub_DF[Sub_DF[\"Complaint Type\"] == \"Illegal Parking\"] #Fetching data only from Illegal Parking incidents.\n",
    "\n",
    "Illegal_Parking_10025 #Inspecting data frame.\n",
    "\n",
    "Total_Incidents_Illegal_Parking = len(Illegal_Parking_10025) #Finding the total instances of illegal parking incidents.\n",
    "\n",
    "Total_Incidents_Illegal_Parking #Inspecting variable.\n",
    "\n",
    "Total_Incidents_10025 = len(Sub_DF) #Finding the total number of incidents in zip code 10025.\n",
    "\n",
    "Total_Incidents_10025 #Inspecting the number of total incidents in zip code 10025.\n",
    "\n",
    "Fraction_Illegal_Parking_10025 = Total_Incidents_Illegal_Parking/Total_Incidents_10025 #Computing fraction of incidents in zip code 10025 that consisted of Illegal Parking.\n",
    "\n",
    "Fraction_Illegal_Parking_10025 #Checking for fraction.\n",
    "\n",
    "\n",
    "Illegal_Parking_All_ZipCodes = df[df[\"Complaint Type\"] == \"Illegal Parking\"] #Creation of data frame that contains only the illegal parking incidents for all zip codes.\n",
    "\n",
    "Illegal_Parking_All_ZipCodes #Inspecting data frame.\n",
    "\n",
    "Illegal_Parking_Incidents_All = len(Illegal_Parking_All_ZipCodes) #Finding number of incidents that consists of Illegal Parking across all zip codes.\n",
    "\n",
    "Illegal_Parking_Incidents_All #Checking variable.\n",
    "\n",
    "Total_Incidents_All_Zips = len(df) #Calculating the total number of incidents across all zip codes.\n",
    "\n",
    "Total_Incidents_All_Zips #Checking variable.\n",
    "\n",
    "Illegal_Parking_Fraction_All = Illegal_Parking_Incidents_All/Total_Incidents_All_Zips #Calculating fraction of Illegal Parking incidents across all zip codes.\n",
    "\n",
    "Illegal_Parking_Fraction_All #Checking variable.\n",
    "\n",
    "if Fraction_Illegal_Parking_10025 > Illegal_Parking_Fraction_All: #Comparing two Illegal Parking fractions and assigning to variable.\n",
    "    \n",
    "    higher_parking_proportion = True\n",
    "    \n",
    "else:\n",
    "    \n",
    "    higher_parking_proportion = False\n",
    "    \n",
    "    \n",
    "higher_parking_proportion #Checking that the variable contains the correct result.\n",
    "        \n",
    "        \n"
   ]
  }
 ],
 "metadata": {
  "kernelspec": {
   "display_name": "Python 3",
   "language": "python",
   "name": "python3"
  },
  "language_info": {
   "codemirror_mode": {
    "name": "ipython",
    "version": 3
   },
   "file_extension": ".py",
   "mimetype": "text/x-python",
   "name": "python",
   "nbconvert_exporter": "python",
   "pygments_lexer": "ipython3",
   "version": "3.8.8"
  }
 },
 "nbformat": 4,
 "nbformat_minor": 5
}
