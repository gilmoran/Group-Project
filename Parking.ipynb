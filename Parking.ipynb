{
 "cells": [
  {
   "cell_type": "code",
   "execution_count": 19,
   "id": "63a83cf4",
   "metadata": {},
   "outputs": [
    {
     "name": "stderr",
     "output_type": "stream",
     "text": [
      "C:\\Users\\victo\\Downloads\\Python\\lib\\site-packages\\IPython\\core\\interactiveshell.py:3165: DtypeWarning: Columns (20,31,32) have mixed types.Specify dtype option on import or set low_memory=False.\n",
      "  has_raised = await self.run_ast_nodes(code_ast.body, cell_name,\n"
     ]
    },
    {
     "data": {
      "text/plain": [
       "False"
      ]
     },
     "execution_count": 19,
     "metadata": {},
     "output_type": "execute_result"
    }
   ],
   "source": [
    "import pandas\n",
    "import numpy\n",
    "\n",
    "df = pandas.read_csv(\"311_Service_Requests_2020.csv\")\n",
    "\n",
    "df\n",
    "\n",
    "Sub_DF = df[df[\"Incident Zip\"] == 10025]\n",
    "\n",
    "Sub_DF #Only Zip Code 10025\n",
    "\n",
    "Illegal_Parking_10025 = Sub_DF[Sub_DF[\"Complaint Type\"] == \"Illegal Parking\"]\n",
    "\n",
    "Illegal_Parking_10025\n",
    "\n",
    "Total_Incidents_Illegal_Parking = len(Illegal_Parking_10025)\n",
    "\n",
    "Total_Incidents_Illegal_Parking\n",
    "\n",
    "Total_Incidents_10025 = len(Sub_DF)\n",
    "\n",
    "Total_Incidents_10025\n",
    "\n",
    "Fraction_Illegal_Parking_10025 = Total_Incidents_Illegal_Parking/Total_Incidents_10025\n",
    "\n",
    "Fraction_Illegal_Parking_10025\n",
    "\n",
    "\n",
    "Illegal_Parking_All_ZipCodes = df[df[\"Complaint Type\"] == \"Illegal Parking\"]\n",
    "\n",
    "Illegal_Parking_All_ZipCodes\n",
    "\n",
    "Illegal_Parking_Incidents_All = len(Illegal_Parking_All_ZipCodes)\n",
    "\n",
    "Illegal_Parking_Incidents_All\n",
    "\n",
    "Total_Incidents_All_Zips = len(df)\n",
    "\n",
    "Total_Incidents_All_Zips\n",
    "\n",
    "Illegal_Parking_Fraction_All = Illegal_Parking_Incidents_All/Total_Incidents_All_Zips\n",
    "\n",
    "Illegal_Parking_Fraction_All\n",
    "\n",
    "if Fraction_Illegal_Parking_10025 > Illegal_Parking_Fraction_All:\n",
    "    \n",
    "    higher_parking_proportion = True\n",
    "    \n",
    "else:\n",
    "    \n",
    "    higher_parking_proportion = False\n",
    "    \n",
    "higher_parking_proportion\n",
    "        \n",
    "        \n"
   ]
  }
 ],
 "metadata": {
  "kernelspec": {
   "display_name": "Python 3",
   "language": "python",
   "name": "python3"
  },
  "language_info": {
   "codemirror_mode": {
    "name": "ipython",
    "version": 3
   },
   "file_extension": ".py",
   "mimetype": "text/x-python",
   "name": "python",
   "nbconvert_exporter": "python",
   "pygments_lexer": "ipython3",
   "version": "3.8.8"
  }
 },
 "nbformat": 4,
 "nbformat_minor": 5
}
