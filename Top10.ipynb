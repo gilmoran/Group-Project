{
 "cells": [
  {
   "cell_type": "code",
   "execution_count": 29,
   "metadata": {},
   "outputs": [
    {
     "name": "stderr",
     "output_type": "stream",
     "text": [
      "C:\\Users\\gilmo\\anaconda3\\lib\\site-packages\\IPython\\core\\interactiveshell.py:3146: DtypeWarning: Columns (20,31,32) have mixed types.Specify dtype option on import or set low_memory=False.\n",
      "  has_raised = await self.run_ast_nodes(code_ast.body, cell_name,\n"
     ]
    },
    {
     "name": "stdout",
     "output_type": "stream",
     "text": [
      "Read without chunks:  72.72091388702393 seconds\n"
     ]
    },
    {
     "data": {
      "text/plain": [
       "Complaint Type\n",
       "Noise - Residential            2952\n",
       "Noise - Street/Sidewalk        2128\n",
       "HEAT/HOT WATER                 1885\n",
       "Noise                          1131\n",
       "Illegal Parking                 792\n",
       "Noise - Vehicle                 787\n",
       "Non-Emergency Police Matter     773\n",
       "Rodent                          691\n",
       "Illegal Fireworks               672\n",
       "UNSANITARY CONDITION            565\n",
       "dtype: int64"
      ]
     },
     "execution_count": 29,
     "metadata": {},
     "output_type": "execute_result"
    }
   ],
   "source": [
    "import pandas as pd\n",
    "import numpy as np\n",
    "\n",
    "  \n",
    "\n",
    "df = pd.read_csv(\"311_Service_Requests_2020.csv\")\n",
    "\n",
    "\n",
    "\n",
    "Sub_df = df[df['Incident Zip'] == 10025]\n",
    "Sub_df\n",
    "\n",
    "Grouped_Data = Sub_df.groupby(\"Complaint Type\").size()\n",
    "\n",
    "Grouped_Data = Grouped_Data.sort_values(ascending = False)\n",
    "\n",
    "\n",
    "top10 = Grouped_Data.head(10)\n",
    "top10"
   ]
  },
  {
   "cell_type": "code",
   "execution_count": null,
   "metadata": {},
   "outputs": [],
   "source": []
  }
 ],
 "metadata": {
  "kernelspec": {
   "display_name": "Python 3",
   "language": "python",
   "name": "python3"
  },
  "language_info": {
   "codemirror_mode": {
    "name": "ipython",
    "version": 3
   },
   "file_extension": ".py",
   "mimetype": "text/x-python",
   "name": "python",
   "nbconvert_exporter": "python",
   "pygments_lexer": "ipython3",
   "version": "3.8.5"
  }
 },
 "nbformat": 4,
 "nbformat_minor": 4
}
